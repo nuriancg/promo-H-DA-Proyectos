{
 "cells": [
  {
   "cell_type": "markdown",
   "metadata": {},
   "source": [
    "## Como jugar AHORCADO:\n",
    "\n",
    "1. El jugador1 (CAZADOR): debera  eligir una palabra secreta. \n",
    "   El jugador2 (LA PRESA) no conocera la palabra secreta y debera estár listo para adivinar.\n",
    "\n",
    "\n",
    "\n",
    "2. El jugador2 (LA PRESA):\n",
    " * Tiene 6 intentos para adivinar la palabra completa.\n",
    " * Cada vez que elija una letra incorrecta, se dibuja una parte del ahorcado.\n",
    " * Si la letra está en la palabra secreta, se revela su posición en el tablero.\n",
    " * Si el jugador2, adivina todas las letras antes de agotar los intentos, ¡gana!\n",
    " * Si se completa todo el dibujo del ahorcado antes de adivinar la palabra, el jugador2 pierde.\n",
    "\n",
    "3. Finalización del Juego:\n",
    " * Al final del juego, se muestra la palabra secreta completa, independientemente de si el jugador_2 ganó o perdió.\n",
    "\n",
    "¡VENGA A JUGAR!  😊"
   ]
  },
  {
   "cell_type": "code",
   "execution_count": 1,
   "metadata": {},
   "outputs": [],
   "source": [
    "def mostrar_tablero(palabra_secreta, letras_adivinadas):\n",
    "    tablero = \"\"\n",
    "    for letra in palabra_secreta:\n",
    "        if letra in letras_adivinadas:\n",
    "            tablero += letra\n",
    "        else:\n",
    "            tablero += \" _ \"\n",
    "    print(tablero)\n",
    "\n",
    "\n",
    "    \n",
    "def mostrar_imagen(intentos_restantes): # función con la imagen para que sea más divertido\n",
    "    imagen= ['''\n",
    "      +---+\n",
    "      |   |\n",
    "          |\n",
    "          |\n",
    "          |\n",
    "          |\n",
    "    =========''', '''\n",
    "      +---+\n",
    "      |   |\n",
    "      O   |\n",
    "          |\n",
    "          |\n",
    "          |\n",
    "    =========''', '''\n",
    "      +---+\n",
    "      |   |\n",
    "      O   |\n",
    "      |   |\n",
    "          |\n",
    "          |\n",
    "    =========''', '''\n",
    "      +---+\n",
    "      |   |\n",
    "      O   |\n",
    "     /|   |\n",
    "          |\n",
    "          |\n",
    "    =========''', '''\n",
    "      +---+\n",
    "      |   |\n",
    "      O   |\n",
    "     /|\\  |\n",
    "          |\n",
    "          |\n",
    "    =========''', '''\n",
    "      +---+\n",
    "      |   |\n",
    "      O   |\n",
    "     /|\\  |\n",
    "     /    |\n",
    "          |\n",
    "    =========''', '''\n",
    "      +---+\n",
    "      |   |\n",
    "      O   |\n",
    "     /|\\  |\n",
    "     / \\  |\n",
    "          |\n",
    "    =========''']  \n",
    "    print(imagen[ 6-intentos_restantes]) \n",
    "    \n",
    "def jugar_ahorcado():\n",
    "    letras_adivinadas = []    \n",
    "    intentos_restantes = 6\n",
    "    palabra_secreta = input(\"Introduce la palabra para que TU PRESA adivine: \").upper() #para dos jugadores, juego clasico\n",
    "    print(\"_\" * len(palabra_secreta))    \n",
    "    \n",
    "    input( \"CLICKEA 'ENTER' Y EL JUEGO COMENZARA\") .upper()  \n",
    "        \n",
    "    \n",
    "    while intentos_restantes > 0:\n",
    "        mostrar_tablero(palabra_secreta, letras_adivinadas)\n",
    "        letra = input(\"Introduce una letra o 'salir' para abandonar el juego \").upper()   \n",
    "        if letra == \"SALIR\":\n",
    "            print(\"has salido del juego\")\n",
    "            break    \n",
    "        if not letra.isalpha() or len(letra) != 1:\n",
    "         print(\"Por favor, introduce solo una letra del alfabeto.\")\n",
    "         continue\n",
    "             \n",
    "        if letra in letras_adivinadas:\n",
    "            print(\"😲 ¡Oops!  Ya has introducido esa letra. Prueba con otra.\")\n",
    "        elif letra in palabra_secreta:\n",
    "            letras_adivinadas.append(letra)\n",
    "            if set(letras_adivinadas) == set(palabra_secreta):\n",
    "                print(\"¡Felicidades!...🥳... Has adivinado la palabra, la palabra es:\", palabra_secreta )\n",
    "                break\n",
    "        else:\n",
    "            intentos_restantes -= 1\n",
    "            print(f\"Letra incorrecta 😯. Te quedan {intentos_restantes} intentos.\")\n",
    "            mostrar_imagen(intentos_restantes)\n",
    "\n",
    "    if intentos_restantes == 0:\n",
    "        print(f\"Has perdido 😢 La palabra secreta era: {palabra_secreta}\")\n",
    "\n",
    "   \n",
    "\n"
   ]
  },
  {
   "cell_type": "code",
   "execution_count": 2,
   "metadata": {},
   "outputs": [
    {
     "name": "stdin",
     "output_type": "stream",
     "text": [
      "Introduce la palabra para que TU PRESA adivine:  yanelis\n"
     ]
    },
    {
     "name": "stdout",
     "output_type": "stream",
     "text": [
      "_______\n"
     ]
    },
    {
     "name": "stdin",
     "output_type": "stream",
     "text": [
      "CLICKEA 'ENTER' Y EL JUEGO COMENZARA \n"
     ]
    },
    {
     "name": "stdout",
     "output_type": "stream",
     "text": [
      " _  _  _  _  _  _  _ \n"
     ]
    },
    {
     "name": "stdin",
     "output_type": "stream",
     "text": [
      "Introduce una letra o 'salir' para abandonar el juego  A\n"
     ]
    },
    {
     "name": "stdout",
     "output_type": "stream",
     "text": [
      " _ A _  _  _  _  _ \n"
     ]
    },
    {
     "name": "stdin",
     "output_type": "stream",
     "text": [
      "Introduce una letra o 'salir' para abandonar el juego  i\n"
     ]
    },
    {
     "name": "stdout",
     "output_type": "stream",
     "text": [
      " _ A _  _  _ I _ \n"
     ]
    },
    {
     "name": "stdin",
     "output_type": "stream",
     "text": [
      "Introduce una letra o 'salir' para abandonar el juego  v\n"
     ]
    },
    {
     "name": "stdout",
     "output_type": "stream",
     "text": [
      "Letra incorrecta 😯. Te quedan 5 intentos.\n",
      "\n",
      "      +---+\n",
      "      |   |\n",
      "      O   |\n",
      "          |\n",
      "          |\n",
      "          |\n",
      "    =========\n",
      " _ A _  _  _ I _ \n"
     ]
    },
    {
     "name": "stdin",
     "output_type": "stream",
     "text": [
      "Introduce una letra o 'salir' para abandonar el juego  d\n"
     ]
    },
    {
     "name": "stdout",
     "output_type": "stream",
     "text": [
      "Letra incorrecta 😯. Te quedan 4 intentos.\n",
      "\n",
      "      +---+\n",
      "      |   |\n",
      "      O   |\n",
      "      |   |\n",
      "          |\n",
      "          |\n",
      "    =========\n",
      " _ A _  _  _ I _ \n"
     ]
    },
    {
     "name": "stdin",
     "output_type": "stream",
     "text": [
      "Introduce una letra o 'salir' para abandonar el juego  z\n"
     ]
    },
    {
     "name": "stdout",
     "output_type": "stream",
     "text": [
      "Letra incorrecta 😯. Te quedan 3 intentos.\n",
      "\n",
      "      +---+\n",
      "      |   |\n",
      "      O   |\n",
      "     /|   |\n",
      "          |\n",
      "          |\n",
      "    =========\n",
      " _ A _  _  _ I _ \n"
     ]
    },
    {
     "name": "stdin",
     "output_type": "stream",
     "text": [
      "Introduce una letra o 'salir' para abandonar el juego  y\n"
     ]
    },
    {
     "name": "stdout",
     "output_type": "stream",
     "text": [
      "YA _  _  _ I _ \n"
     ]
    },
    {
     "name": "stdin",
     "output_type": "stream",
     "text": [
      "Introduce una letra o 'salir' para abandonar el juego  n\n"
     ]
    },
    {
     "name": "stdout",
     "output_type": "stream",
     "text": [
      "YAN _  _ I _ \n"
     ]
    },
    {
     "name": "stdin",
     "output_type": "stream",
     "text": [
      "Introduce una letra o 'salir' para abandonar el juego  e\n"
     ]
    },
    {
     "name": "stdout",
     "output_type": "stream",
     "text": [
      "YANE _ I _ \n"
     ]
    },
    {
     "name": "stdin",
     "output_type": "stream",
     "text": [
      "Introduce una letra o 'salir' para abandonar el juego  l\n"
     ]
    },
    {
     "name": "stdout",
     "output_type": "stream",
     "text": [
      "YANELI _ \n"
     ]
    },
    {
     "name": "stdin",
     "output_type": "stream",
     "text": [
      "Introduce una letra o 'salir' para abandonar el juego  t\n"
     ]
    },
    {
     "name": "stdout",
     "output_type": "stream",
     "text": [
      "Letra incorrecta 😯. Te quedan 2 intentos.\n",
      "\n",
      "      +---+\n",
      "      |   |\n",
      "      O   |\n",
      "     /|\\  |\n",
      "          |\n",
      "          |\n",
      "    =========\n",
      "YANELI _ \n"
     ]
    },
    {
     "name": "stdin",
     "output_type": "stream",
     "text": [
      "Introduce una letra o 'salir' para abandonar el juego  s\n"
     ]
    },
    {
     "name": "stdout",
     "output_type": "stream",
     "text": [
      "¡Felicidades!...🥳... Has adivinado la palabra, la palabra es: YANELIS\n"
     ]
    }
   ],
   "source": [
    "jugar_ahorcado()\n",
    "\n"
   ]
  }
 ],
 "metadata": {
  "kernelspec": {
   "display_name": "Python 3 (ipykernel)",
   "language": "python",
   "name": "python3"
  },
  "language_info": {
   "codemirror_mode": {
    "name": "ipython",
    "version": 3
   },
   "file_extension": ".py",
   "mimetype": "text/x-python",
   "name": "python",
   "nbconvert_exporter": "python",
   "pygments_lexer": "ipython3",
   "version": "3.11.8"
  }
 },
 "nbformat": 4,
 "nbformat_minor": 4
}
